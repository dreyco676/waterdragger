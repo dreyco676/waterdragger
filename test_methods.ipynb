{
 "cells": [
  {
   "cell_type": "code",
   "execution_count": 1,
   "metadata": {},
   "outputs": [
    {
     "name": "stdout",
     "output_type": "stream",
     "text": [
      "amount_tsh                float64\ngps_height                float64\nbasin                    category\nsubvillage               category\nregion_code              category\ndistrict_code            category\nlga                      category\nward                     category\npopulation                float64\npublic_meeting            float64\nscheme_management        category\npermit                    float64\nconstruction_year         float64\nextraction_type          category\nextraction_type_group    category\nextraction_type_class    category\nmanagement               category\nmanagement_group         category\npayment                  category\npayment_type             category\nwater_quality            category\nquality_group            category\nquantity                 category\nquantity_group           category\nsource                   category\nsource_type              category\nsource_class             category\nwaterpoint_type          category\nwaterpoint_type_group    category\ndtype: object\n"
     ]
    }
   ],
   "source": [
    "import pandas as pd\n",
    "import numpy as np\n",
    "training_df = pd.read_csv('./data/cleaned_Training_set_values.csv', index_col='id')\n",
    "training_label_df = pd.read_csv('./data/Training_set_labels.csv', index_col='id')\n",
    "training_cols = list(training_df.columns.values)\n",
    "for col in training_cols:\n",
    "    if training_df[col].dtype == np.object:\n",
    "        training_df[col] = training_df[col].astype('category')\n",
    "training_df['district_code'] = training_df['district_code'].astype('category')\n",
    "training_df['region_code'] = training_df['region_code'].astype('category')\n",
    "print(training_df.dtypes)"
   ]
  },
  {
   "cell_type": "code",
   "execution_count": 2,
   "metadata": {},
   "outputs": [],
   "source": [
    "vect_df = pd.get_dummies(training_df,  sparse=True)\n",
    "vect_df.to_pickle('./data/clean_vect_training.pickle')"
   ]
  },
  {
   "cell_type": "code",
   "execution_count": 5,
   "metadata": {},
   "outputs": [],
   "source": [
    "import pandas as pd\n",
    "import numpy as np\n",
    "vect_df = pd.read_pickle('./data/vect_training.pickle')\n",
    "training_label_df = pd.read_csv('./data/Training_set_labels.csv', index_col='id')"
   ]
  },
  {
   "cell_type": "code",
   "execution_count": 6,
   "metadata": {},
   "outputs": [],
   "source": [
    "repl_val = ['functional', 'functional needs repair', 'non functional']\n",
    "y_df = training_label_df[['status_group']]\n",
    "y_df = y_df.replace(repl_val, [0.0, 1.0, 2.0])\n",
    "y = y_df.as_matrix().astype(np.float)"
   ]
  },
  {
   "cell_type": "code",
   "execution_count": 3,
   "metadata": {},
   "outputs": [
    {
     "ename": "NameError",
     "evalue": "name 'vect_df' is not defined",
     "traceback": [
      "\u001b[0;31m---------------------------------------------------------------------------\u001b[0m",
      "\u001b[0;31mNameError\u001b[0m                                 Traceback (most recent call last)",
      "\u001b[0;32m<ipython-input-3-d2ff710f6b57>\u001b[0m in \u001b[0;36m<module>\u001b[0;34m()\u001b[0m\n\u001b[0;32m----> 1\u001b[0;31m \u001b[0mprint\u001b[0m\u001b[0;34m(\u001b[0m\u001b[0mvect_df\u001b[0m\u001b[0;34m)\u001b[0m\u001b[0;34m\u001b[0m\u001b[0m\n\u001b[0m",
      "\u001b[0;31mNameError\u001b[0m: name 'vect_df' is not defined"
     ],
     "output_type": "error"
    }
   ],
   "source": [
    "print(vect_df)"
   ]
  },
  {
   "cell_type": "code",
   "execution_count": 2,
   "metadata": {},
   "outputs": [],
   "source": [
    "X = vect_df.as_matrix().astype(np.float)\n",
    "\n",
    "# This is important\n",
    "from sklearn.preprocessing import StandardScaler\n",
    "from sklearn.preprocessing import Imputer\n",
    "X = Imputer().fit_transform(X).StandardScaler().fit_transform(X)"
   ]
  },
  {
   "cell_type": "code",
   "execution_count": 1,
   "metadata": {},
   "outputs": [],
   "source": [
    "print(\"Feature space holds %d observations and %d features\" % X.shape)\n",
    "print(\"Unique target labels:\", np.unique(y))"
   ]
  },
  {
   "cell_type": "code",
   "execution_count": null,
   "metadata": {},
   "outputs": [],
   "source": [
    "from sklearn.cross_validation import KFold\n",
    "\n",
    "\n",
    "def run_cv(X, y, clf_class, **kwargs):\n",
    "    # Construct a kfolds object\n",
    "    kf = KFold(len(y),n_folds=5,shuffle=True)\n",
    "    y_pred = y.copy()\n",
    "\n",
    "    # Iterate through folds\n",
    "    for train_index, test_index in kf:\n",
    "        X_train, X_test = X[train_index], X[test_index]\n",
    "        y_train = y[train_index]\n",
    "        # Initialize a classifier with key word arguments\n",
    "        clf = clf_class(**kwargs)\n",
    "        clf.fit(X_train,y_train)\n",
    "        y_pred[test_index] = clf.predict(X_test)\n",
    "    return y_pred"
   ]
  },
  {
   "cell_type": "code",
   "execution_count": null,
   "metadata": {},
   "outputs": [],
   "source": [
    "from sklearn.svm import SVC\n",
    "from sklearn.ensemble import RandomForestClassifier as RF\n",
    "from sklearn.neighbors import KNeighborsClassifier as KNN\n",
    "\n",
    "def accuracy(y_true,y_pred):\n",
    "    # NumPy interprets True and False as 1. and 0.\n",
    "    return np.mean(y_true == y_pred)"
   ]
  },
  {
   "cell_type": "code",
   "execution_count": null,
   "metadata": {},
   "outputs": [],
   "source": [
    "print(\"Support vector machines:\")\n",
    "print(\"%.3f\" % accuracy(y, run_cv(X,y,SVC)))"
   ]
  },
  {
   "cell_type": "code",
   "execution_count": null,
   "metadata": {},
   "outputs": [],
   "source": [
    "print(\"Random forest:\")\n",
    "print(\"%.3f\" % accuracy(y, run_cv(X,y,RF)))"
   ]
  },
  {
   "cell_type": "code",
   "execution_count": null,
   "metadata": {},
   "outputs": [],
   "source": [
    "print(\"K-nearest-neighbors:\")\n",
    "print(\"%.3f\" % accuracy(y, run_cv(X,y,KNN)))"
   ]
  },
  {
   "cell_type": "code",
   "execution_count": null,
   "outputs": [],
   "source": [
    ""
   ]
  }
 ],
 "metadata": {},
 "nbformat": 4,
 "nbformat_minor": 0
}